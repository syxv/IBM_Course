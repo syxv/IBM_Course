{
 "cells": [
  {
   "cell_type": "markdown",
   "id": "c4494de5",
   "metadata": {},
   "source": [
    "# My Jupyter Notebook on IBM Watson Studio"
   ]
  },
  {
   "cell_type": "markdown",
   "id": "7df63f54",
   "metadata": {},
   "source": [
    "**SHAO YUXING**  \n",
    "Data Scientist"
   ]
  },
  {
   "cell_type": "markdown",
   "id": "d94142fb",
   "metadata": {},
   "source": [
    "*Data science is so interesting, I like it.*"
   ]
  },
  {
   "cell_type": "markdown",
   "id": "89054355",
   "metadata": {},
   "source": [
    "### Build a plus function"
   ]
  },
  {
   "cell_type": "code",
   "execution_count": 13,
   "id": "19dcc75c",
   "metadata": {},
   "outputs": [
    {
     "name": "stdout",
     "output_type": "stream",
     "text": [
      "1  plus  5  is  6\n"
     ]
    },
    {
     "data": {
      "text/plain": [
       "6"
      ]
     },
     "execution_count": 13,
     "metadata": {},
     "output_type": "execute_result"
    }
   ],
   "source": [
    "def plus(a, b):\n",
    "    print(a,' plus ', b, ' is ', a+b)\n",
    "    return a + b\n",
    "\n",
    "plus(1, 5)"
   ]
  },
  {
   "cell_type": "markdown",
   "id": "87ae9444",
   "metadata": {},
   "source": [
    "> Using Markdown or HTML, this cell must include at least 3 of the following:  \n",
    ">  * horizontal rule\n",
    ">  * bulleted list\n",
    ">  * numbered list\n",
    ">  * tables\n",
    ">  * hyperlinks\n",
    ">  * images\n",
    ">  * code/syntax highlighting\n",
    ">  * blocked quotes\n",
    ">  * strikethrough.\n",
    "\n",
    "We can find the content from the [url](https://cf-courses-data.s3.us.cloud-object-storage.appdomain.cloud/IBMDeveloperSkillsNetwork-DS0105EN-SkillsNetwork/labs/FinalModule_Coursera/Final_Instruction_toolforDS.md.html?origin=www.coursera.org).\n",
    "Now I have completed the following:\n",
    "  1. bulleted list\n",
    "  2. numbered list\n",
    "  3. hyperlinks\n",
    "  4. blocked quotes\n",
    "  5. ```code/syntax highlighting```\n",
    "\n",
    "I think it is OK now."
   ]
  },
  {
   "cell_type": "code",
   "execution_count": null,
   "id": "7949ba4d",
   "metadata": {},
   "outputs": [],
   "source": []
  }
 ],
 "metadata": {
  "kernelspec": {
   "display_name": "Python 3 (ipykernel)",
   "language": "python",
   "name": "python3"
  },
  "language_info": {
   "codemirror_mode": {
    "name": "ipython",
    "version": 3
   },
   "file_extension": ".py",
   "mimetype": "text/x-python",
   "name": "python",
   "nbconvert_exporter": "python",
   "pygments_lexer": "ipython3",
   "version": "3.9.12"
  },
  "toc": {
   "base_numbering": 1,
   "nav_menu": {},
   "number_sections": true,
   "sideBar": true,
   "skip_h1_title": false,
   "title_cell": "Table of Contents",
   "title_sidebar": "Contents",
   "toc_cell": false,
   "toc_position": {},
   "toc_section_display": true,
   "toc_window_display": false
  }
 },
 "nbformat": 4,
 "nbformat_minor": 5
}
